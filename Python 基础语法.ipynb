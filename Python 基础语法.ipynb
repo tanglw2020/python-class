{
 "cells": [
  {
   "cell_type": "markdown",
   "metadata": {
    "slideshow": {
     "slide_type": "-"
    }
   },
   "source": [
    "# 缩进规则"
   ]
  },
  {
   "cell_type": "code",
   "execution_count": 1,
   "metadata": {},
   "outputs": [],
   "source": [
    "print('line 1')\n",
    "\n",
    "if True:\n",
    "    print('if 1: line 1')\n",
    "    print('if 1: line 2')\n",
    "    \n",
    "    if True:\n",
    "        print('if 2: line 1')\n",
    "        print('if 2: line 2')\n",
    "        \n",
    "    print('if 1: line 3')\n",
    "\n",
    "print('line 2')\n",
    "        "
   ]
  },
  {
   "cell_type": "markdown",
   "metadata": {},
   "source": [
    "# 换行规则"
   ]
  },
  {
   "cell_type": "code",
   "execution_count": 2,
   "metadata": {},
   "outputs": [],
   "source": [
    "print('line 1');  print('line 2'); print('line 3');\n",
    "\n",
    "if True or \\\n",
    "False:\n",
    "    print('go 2 lines')\n",
    "\n",
    "# 例外情况\n",
    "days = ['Monday', 'Tuesday', 'Wednesday',\n",
    "        'Thursday', 'Friday']\n",
    "print(days)"
   ]
  },
  {
   "cell_type": "markdown",
   "metadata": {},
   "source": [
    "# Python 引号\n",
    "Python 可以使用引号( ' )、双引号( \" )、三引号( ''' 或 \"\"\" ) 来表示字符串"
   ]
  },
  {
   "cell_type": "code",
   "execution_count": 3,
   "metadata": {},
   "outputs": [],
   "source": [
    "word = 'word'\n",
    "sentence = \"这是一个句子。\"\n",
    "paragraph = \"\"\"这是一个段落。\n",
    "包含了多个语句\"\"\""
   ]
  },
  {
   "cell_type": "markdown",
   "metadata": {},
   "source": [
    "# Python注释\n",
    "\n",
    "python 中多行注释使用三个单引号(''')或三个双引号(\"\"\")"
   ]
  },
  {
   "cell_type": "code",
   "execution_count": 4,
   "metadata": {},
   "outputs": [
    {
     "name": "stdout",
     "output_type": "stream",
     "text": [
      "Hello, Python!\n"
     ]
    },
    {
     "data": {
      "text/plain": [
       "'\\n这是多行注释，使用单引号。\\n这是多行注释，使用单引号。\\n这是多行注释，使用单引号。\\n'"
      ]
     },
     "execution_count": 4,
     "metadata": {},
     "output_type": "execute_result"
    }
   ],
   "source": [
    "# -*- coding: UTF-8 -*-\n",
    "# 文件名：test.py\n",
    "\n",
    "# 第一个注释\n",
    "print (\"Hello, Python!\")  # 第二个注释\n",
    "\n",
    "'''\n",
    "这是多行注释，使用单引号。\n",
    "这是多行注释，使用单引号。\n",
    "这是多行注释，使用单引号。\n",
    "'''\n"
   ]
  },
  {
   "cell_type": "markdown",
   "metadata": {},
   "source": [
    "# 标准数据类型\n",
    "- Numbers（数字）\n",
    "- String（字符串）\n",
    "- List（列表）\n",
    "- Tuple（元组）\n",
    "- Dictionary（字典）\n",
    "> 创建时无需指定变量类型"
   ]
  },
  {
   "cell_type": "code",
   "execution_count": 5,
   "metadata": {},
   "outputs": [
    {
     "name": "stdout",
     "output_type": "stream",
     "text": [
      "100 <class 'int'>\n",
      "1000.0 <class 'float'>\n",
      "John <class 'str'>\n",
      "[1, '2', '234'] <class 'list'>\n",
      "(1, 2, 3) <class 'tuple'>\n",
      "{1: 'a', 2: 'b'} <class 'dict'>\n"
     ]
    }
   ],
   "source": [
    "counter = 100 # 赋值整型变量\n",
    "miles = 1000.0 # 浮点型\n",
    "name = \"John\" # 字符串\n",
    "\n",
    "a, b, c = 1, 2, \"john\" # 变量赋值\n",
    "\n",
    "list1 = [1,'2','234']\n",
    "tuple1 = (1,2,3)\n",
    "dict1 = {1:'a',2:'b'}\n",
    "\n",
    "print(counter, type(counter))\n",
    "print(miles, type(miles))\n",
    "print(name, type(name))\n",
    "print(list1, type(list1))\n",
    "print(tuple1, type(tuple1))\n",
    "print(dict1, type(dict1))"
   ]
  },
  {
   "cell_type": "markdown",
   "metadata": {},
   "source": [
    "# 序列产生器"
   ]
  },
  {
   "cell_type": "code",
   "execution_count": 6,
   "metadata": {},
   "outputs": [
    {
     "name": "stdout",
     "output_type": "stream",
     "text": [
      "-2\n",
      "-1\n",
      "0\n",
      "1\n",
      "2\n",
      "3\n",
      "4\n",
      "5\n"
     ]
    }
   ],
   "source": [
    "for i in range(-2,6):\n",
    "    print(i)"
   ]
  },
  {
   "cell_type": "markdown",
   "metadata": {},
   "source": [
    "# Python字符串"
   ]
  },
  {
   "cell_type": "code",
   "execution_count": 7,
   "metadata": {},
   "outputs": [
    {
     "name": "stdout",
     "output_type": "stream",
     "text": [
      "this is good\n",
      "this is good\n"
     ]
    }
   ],
   "source": [
    "s1 = 'this is good'\n",
    "s2 = 'this ' + 'is ' + 'good'\n",
    "print(s1)\n",
    "print(s2)\n"
   ]
  },
  {
   "cell_type": "code",
   "execution_count": 8,
   "metadata": {},
   "outputs": [
    {
     "name": "stdout",
     "output_type": "stream",
     "text": [
      "s1[0]:t s1[-12]:t\n",
      "s1[1]:h s1[-11]:h\n",
      "s1[2]:i s1[-10]:i\n",
      "s1[3]:s s1[-9]:s\n",
      "s1[4]:  s1[-8]: \n",
      "s1[5]:i s1[-7]:i\n",
      "s1[6]:s s1[-6]:s\n",
      "s1[7]:  s1[-5]: \n",
      "s1[8]:g s1[-4]:g\n",
      "s1[9]:o s1[-3]:o\n",
      "s1[10]:o s1[-2]:o\n",
      "s1[11]:d s1[-1]:d\n"
     ]
    }
   ],
   "source": [
    "# 正负index用法\n",
    "for i in range(len(s1)):\n",
    "    j = i - len(s1)\n",
    "    print('s1[{}]:{} s1[{}]:{}'.format(i,s1[i],j,s1[j]))\n",
    "\n"
   ]
  },
  {
   "cell_type": "code",
   "execution_count": 9,
   "metadata": {},
   "outputs": [
    {
     "name": "stdout",
     "output_type": "stream",
     "text": [
      "is\n",
      "s is good\n",
      "go\n",
      "this is \n"
     ]
    }
   ],
   "source": [
    "# 切片\n",
    "print(s1[2:4])\n",
    "print(s1[3:40])\n",
    "print(s1[-4:-2])\n",
    "print(s1[-30:-4])"
   ]
  },
  {
   "cell_type": "code",
   "execution_count": 23,
   "metadata": {},
   "outputs": [
    {
     "name": "stdout",
     "output_type": "stream",
     "text": [
      "s:   what a good day\n",
      "\n",
      "s.strip: what a good day\n",
      "s.split: ['', '', 'what', 'a', 'good', 'day\\n']\n",
      "s.strip.split: ['what', 'a', 'good', 'day']\n",
      "find good: 9\n",
      "find goodx: -1\n",
      "  what a good day\n",
      "\n",
      "  what a great day\n",
      "\n",
      "what a good day\n",
      "whatagoodday\n",
      "what_a_good_day\n"
     ]
    }
   ],
   "source": [
    "# 常用操作\n",
    "s = '  what a good day\\n'\n",
    "print('s:', s)\n",
    "print('s.strip:',s.strip())\n",
    "\n",
    "print('s.split:', s.split(' '))\n",
    "print('s.strip.split:',s.strip().split(' '))\n",
    "\n",
    "print('find good:',s.find('good'))\n",
    "print('find goodx:',s.find('goodx')) #注意不是返回0\n",
    "\n",
    "s1 = s.replace('good','great')\n",
    "print(s)\n",
    "print(s1)\n",
    "\n",
    "slist = ['what','a','good','day']\n",
    "print(' '.join(slist))\n",
    "print(''.join(slist))\n",
    "print('_'.join(slist))"
   ]
  },
  {
   "cell_type": "markdown",
   "metadata": {},
   "source": [
    "# 列表list\n",
    "List（列表） 是 Python 中使用最频繁的数据类型。\n",
    "列表可以完成大多数集合类的数据结构实现。它支持字符，数字，字符串甚至可以包含列表（即嵌套）。"
   ]
  },
  {
   "cell_type": "code",
   "execution_count": 11,
   "metadata": {},
   "outputs": [
    {
     "name": "stdout",
     "output_type": "stream",
     "text": [
      "['runoob', 786, 2.23, 'john', 70.2]\n",
      "runoob\n",
      "[786, 2.23]\n",
      "[2.23, 'john', 70.2]\n"
     ]
    }
   ],
   "source": [
    "biglist = [ 'runoob', 786 , 2.23, 'john', 70.2 ]\n",
    "tinylist = [123, 'john']\n",
    " \n",
    "print(biglist)               # 输出完整列表\n",
    "print(biglist[0])             # 输出列表的第一个元素\n",
    "print(biglist[1:3])          # 输出第二个至第三个元素 \n",
    "print(biglist[2:])            # 输出从第三个开始至列表末尾的所有元素\n",
    "# print(biglist[20])"
   ]
  },
  {
   "cell_type": "code",
   "execution_count": 12,
   "metadata": {},
   "outputs": [
    {
     "name": "stdout",
     "output_type": "stream",
     "text": [
      "['runoob', 786, 2.23, 3, 70.2]\n"
     ]
    }
   ],
   "source": [
    "biglist[3] = 3\n",
    "print(biglist)"
   ]
  },
  {
   "cell_type": "code",
   "execution_count": 13,
   "metadata": {},
   "outputs": [
    {
     "name": "stdout",
     "output_type": "stream",
     "text": [
      "[123, 'john', 123, 'john', 123, 'john']\n",
      "['runoob', 786, 2.23, 3, 70.2, 'runoob', 786, 2.23, 3, 70.2, 123, 'john', 123, 'john']\n"
     ]
    }
   ],
   "source": [
    "print(tinylist * 3)        # 输出列表两次\n",
    "print(biglist*2 + tinylist*2)     # 打印组合的列表"
   ]
  },
  {
   "cell_type": "code",
   "execution_count": 14,
   "metadata": {},
   "outputs": [
    {
     "name": "stdout",
     "output_type": "stream",
     "text": [
      "True\n",
      "False\n"
     ]
    }
   ],
   "source": [
    "print(123 in tinylist)\n",
    "print(123 in biglist)"
   ]
  },
  {
   "cell_type": "code",
   "execution_count": 15,
   "metadata": {},
   "outputs": [
    {
     "name": "stdout",
     "output_type": "stream",
     "text": [
      "['runoob', 786, 2.23, 3, 70.2, 'add1', 'add2']\n"
     ]
    }
   ],
   "source": [
    "biglist.append('add1')\n",
    "biglist.append('add2')\n",
    "print(biglist)"
   ]
  },
  {
   "cell_type": "code",
   "execution_count": 16,
   "metadata": {},
   "outputs": [
    {
     "name": "stdout",
     "output_type": "stream",
     "text": [
      "['insert1', 'runoob', 786, 'insert3', 2.23, 3, 70.2, 'add1', 'add2']\n"
     ]
    }
   ],
   "source": [
    "biglist.insert(0,'insert1')\n",
    "biglist.insert(3,'insert3')\n",
    "print(biglist)"
   ]
  },
  {
   "cell_type": "code",
   "execution_count": 17,
   "metadata": {},
   "outputs": [
    {
     "name": "stdout",
     "output_type": "stream",
     "text": [
      "['insert1', 'runoob', 786, 'insert3', 2.23, 3, 70.2, 'add1', 'add2']\n"
     ]
    }
   ],
   "source": [
    "# biglist.remove(786)\n",
    "# biglist.remove(7)\n",
    "print(biglist)"
   ]
  },
  {
   "cell_type": "code",
   "execution_count": 18,
   "metadata": {},
   "outputs": [
    {
     "name": "stdout",
     "output_type": "stream",
     "text": [
      "0\n",
      "1\n"
     ]
    }
   ],
   "source": [
    "print(biglist.count(4))\n",
    "print(biglist.count('insert1'))"
   ]
  },
  {
   "cell_type": "code",
   "execution_count": 19,
   "metadata": {},
   "outputs": [
    {
     "name": "stdout",
     "output_type": "stream",
     "text": [
      "['insert1', 'runoob', 786, 'insert3', 2.23, 3, 70.2, 'add1', 'add2', 'ext1', 'ext2']\n"
     ]
    }
   ],
   "source": [
    "biglist.extend(['ext1','ext2'])\n",
    "# biglist.extend(3)\n",
    "print(biglist)"
   ]
  },
  {
   "cell_type": "code",
   "execution_count": 20,
   "metadata": {
    "scrolled": true
   },
   "outputs": [
    {
     "ename": "ValueError",
     "evalue": "1 is not in list",
     "output_type": "error",
     "traceback": [
      "\u001b[1;31m---------------------------------------------------------------------------\u001b[0m",
      "\u001b[1;31mValueError\u001b[0m                                Traceback (most recent call last)",
      "\u001b[1;32m<ipython-input-20-c741f46e4d11>\u001b[0m in \u001b[0;36m<module>\u001b[1;34m\u001b[0m\n\u001b[1;32m----> 1\u001b[1;33m \u001b[0mbiglist\u001b[0m\u001b[1;33m.\u001b[0m\u001b[0mindex\u001b[0m\u001b[1;33m(\u001b[0m\u001b[1;36m1\u001b[0m\u001b[1;33m)\u001b[0m\u001b[1;33m\u001b[0m\u001b[1;33m\u001b[0m\u001b[0m\n\u001b[0m\u001b[0;32m      2\u001b[0m \u001b[1;31m# biglist.index(1,4)\u001b[0m\u001b[1;33m\u001b[0m\u001b[1;33m\u001b[0m\u001b[1;33m\u001b[0m\u001b[0m\n",
      "\u001b[1;31mValueError\u001b[0m: 1 is not in list"
     ]
    }
   ],
   "source": [
    "biglist.index(1)\n",
    "# biglist.index(1,4)"
   ]
  },
  {
   "cell_type": "code",
   "execution_count": null,
   "metadata": {},
   "outputs": [],
   "source": [
    "d = biglist.pop()\n",
    "print(d, len(biglist))"
   ]
  },
  {
   "cell_type": "markdown",
   "metadata": {},
   "source": [
    "## 排序 sort 与 sorted\n",
    "- sort是应用在 list 上的方法，sorted 可以对所有可迭代的对象进行排序操作\n",
    "- list的sort方法返回的是对已经存在的列表进行操作，无返回值\n",
    "- 内建函数 sorted 方法返回的是一个新的 list，而不是在原来的基础上进行的操作\n",
    "    - sorted(iterable, cmp=None, key=None, reverse=False)\n",
    "    - sorted使用灵活"
   ]
  },
  {
   "cell_type": "code",
   "execution_count": null,
   "metadata": {},
   "outputs": [],
   "source": [
    "biglist.sort()\n",
    "print(biglist)"
   ]
  },
  {
   "cell_type": "code",
   "execution_count": null,
   "metadata": {},
   "outputs": [],
   "source": [
    "list2 = [2,5,6,3,1]\n",
    "list2.sort()\n",
    "print(list2)"
   ]
  },
  {
   "cell_type": "code",
   "execution_count": null,
   "metadata": {},
   "outputs": [],
   "source": [
    "list2 = [2,5,6,3,1]\n",
    "list2 = sorted(list2)\n",
    "print(list2)\n",
    "list2 = sorted(list2, reverse=True)\n",
    "print(list2)"
   ]
  },
  {
   "cell_type": "code",
   "execution_count": null,
   "metadata": {},
   "outputs": [],
   "source": [
    "# 复杂情况排序\n",
    "L=[('b',2),('a',1),('c',3),('d',4)]\n",
    "sorted(L, key=lambda x:x[1]) "
   ]
  },
  {
   "cell_type": "code",
   "execution_count": null,
   "metadata": {},
   "outputs": [],
   "source": [
    "students = [('john', 'A', 15), ('jane', 'B', 12), ('dave', 'B', 10)]\n",
    "print(sorted(students, key=lambda s: s[2]))\n",
    "print(sorted(students, key=lambda s: s[1]))"
   ]
  },
  {
   "cell_type": "code",
   "execution_count": null,
   "metadata": {},
   "outputs": [],
   "source": [
    "print(sorted(list, key=lambda s: str(s)))"
   ]
  },
  {
   "cell_type": "markdown",
   "metadata": {},
   "source": [
    "# Python 元组\n",
    "\n",
    "元组类似于 List（列表）。\n",
    "元组用 () 标识。内部元素用逗号隔开。但是元组不能二次赋值，相当于只读列表。"
   ]
  },
  {
   "cell_type": "code",
   "execution_count": null,
   "metadata": {},
   "outputs": [],
   "source": [
    "bigtuple = ( 'runoob', 786 , 2.23, 'john', 70.2 )\n",
    "tinytuple = (123, 'john')\n",
    " \n",
    "print(bigtuple)                # 输出完整元组\n",
    "print(bigtuple[0])             # 输出元组的第一个元素\n",
    "print(bigtuple[1:3])           # 输出第二个至第四个（不包含）的元素 \n",
    "print(bigtuple[2:] )           # 输出从第三个开始至列表末尾的所有元素\n",
    "print(tinytuple * 2)        # 输出元组两次\n",
    "print(bigtuple + tinytuple)    # 打印组合的元组"
   ]
  },
  {
   "cell_type": "code",
   "execution_count": null,
   "metadata": {},
   "outputs": [],
   "source": [
    "bigtuple[0] = 10"
   ]
  },
  {
   "cell_type": "code",
   "execution_count": null,
   "metadata": {},
   "outputs": [],
   "source": [
    "# single value for tuple\n",
    "single_tuple = (1,)\n",
    "print(single_tuple)"
   ]
  },
  {
   "cell_type": "markdown",
   "metadata": {},
   "source": [
    "# 集合set\n",
    "- set是一个无序且不重复的元素集合。\n",
    "- 因为集合本身是无序的，不可以为集合创建索引或执行切片(slice)操作"
   ]
  },
  {
   "cell_type": "code",
   "execution_count": null,
   "metadata": {},
   "outputs": [],
   "source": [
    "# 4中创建方法\n",
    "s = set() \n",
    "print(s)\n",
    "\n",
    "a=set('boy')\n",
    "print(a)\n",
    "\n",
    "d={'k1','k2','k2'}\n",
    "print(d)\n",
    "\n",
    "b=set(['y', 'b', 'o','o'])\n",
    "print(b)"
   ]
  },
  {
   "cell_type": "code",
   "execution_count": null,
   "metadata": {},
   "outputs": [],
   "source": [
    "d.update(a)\n",
    "print(d)"
   ]
  },
  {
   "cell_type": "code",
   "execution_count": null,
   "metadata": {},
   "outputs": [],
   "source": [
    "d.discard('22')\n",
    "d.discard('k1')\n",
    "print(d)"
   ]
  },
  {
   "cell_type": "code",
   "execution_count": null,
   "metadata": {},
   "outputs": [],
   "source": [
    "d.remove('22')"
   ]
  },
  {
   "cell_type": "code",
   "execution_count": null,
   "metadata": {},
   "outputs": [],
   "source": [
    "s1 = {1,2,3,4,5}\n",
    "s2 = {4,5,6,6,7}\n",
    "s3 = {2,3,4}\n",
    "print(s1|s2)\n",
    "print(s1&s2)\n",
    "print(s1-s2)\n",
    "print(s2-s1)\n",
    "\n",
    "print(s2>s1)\n",
    "print(s2<s1)\n",
    "print(s3>s1)\n",
    "print(s3<s1)"
   ]
  },
  {
   "cell_type": "code",
   "execution_count": null,
   "metadata": {},
   "outputs": [],
   "source": [
    "li = list(s1)\n",
    "tu = tuple(s1)\n",
    "st = str(s1)\n",
    "print(li,type(li))\n",
    "print(tu,type(tu))\n",
    "print(st,type(st))"
   ]
  },
  {
   "cell_type": "markdown",
   "metadata": {},
   "source": [
    "## query speed comparing: set vs list "
   ]
  },
  {
   "cell_type": "code",
   "execution_count": 21,
   "metadata": {},
   "outputs": [
    {
     "name": "stdout",
     "output_type": "stream",
     "text": [
      "1000000 1000000\n"
     ]
    }
   ],
   "source": [
    "ilist = [i for i in range(1000000)]\n",
    "iset = set(ilist)\n",
    "print(len(ilist), len(iset))"
   ]
  },
  {
   "cell_type": "code",
   "execution_count": 22,
   "metadata": {},
   "outputs": [
    {
     "name": "stdout",
     "output_type": "stream",
     "text": [
      "[False, False, False, False, False, False, False, False, False, False] [True, True, True, True, True, True, True, True, True, True]\n",
      "Wall time: 11.9 s\n"
     ]
    }
   ],
   "source": [
    "%%time\n",
    "r1 = []\n",
    "for i in range(-1000,1000):\n",
    "    r1.append(i in ilist)\n",
    "print(r1[:10],r1[-10:])"
   ]
  },
  {
   "cell_type": "code",
   "execution_count": null,
   "metadata": {},
   "outputs": [],
   "source": [
    "%%time\n",
    "r2 = []\n",
    "for i in range(-1000,1000):\n",
    "    r2.append(i in iset)\n",
    "print(r2[:10],r2[-10:])"
   ]
  },
  {
   "cell_type": "markdown",
   "metadata": {},
   "source": [
    "# 字典Dict"
   ]
  },
  {
   "cell_type": "code",
   "execution_count": null,
   "metadata": {},
   "outputs": [],
   "source": []
  },
  {
   "cell_type": "code",
   "execution_count": null,
   "metadata": {},
   "outputs": [],
   "source": []
  },
  {
   "cell_type": "code",
   "execution_count": null,
   "metadata": {},
   "outputs": [],
   "source": []
  }
 ],
 "metadata": {
  "kernelspec": {
   "display_name": "Python 3",
   "language": "python",
   "name": "python3"
  },
  "language_info": {
   "codemirror_mode": {
    "name": "ipython",
    "version": 3
   },
   "file_extension": ".py",
   "mimetype": "text/x-python",
   "name": "python",
   "nbconvert_exporter": "python",
   "pygments_lexer": "ipython3",
   "version": "3.7.4"
  }
 },
 "nbformat": 4,
 "nbformat_minor": 2
}
