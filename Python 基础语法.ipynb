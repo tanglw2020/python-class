{
 "cells": [
  {
   "cell_type": "markdown",
   "metadata": {
    "slideshow": {
     "slide_type": "-"
    }
   },
   "source": [
    "# 缩进规则\n",
    "- Python代码基本核心规则，必须严格遵守\n",
    "- 可用Tab或者空格，推荐全部使用空格"
   ]
  },
  {
   "cell_type": "code",
   "execution_count": 6,
   "metadata": {},
   "outputs": [
    {
     "name": "stdout",
     "output_type": "stream",
     "text": [
      "line 1\n",
      "if 1: line 1\n",
      "if 1: line 2\n",
      "if 2: line 1\n",
      "if 2: line 2\n",
      "if 1: line 3\n",
      "line 2\n"
     ]
    }
   ],
   "source": [
    "print('line 1')  # 0\n",
    "\n",
    "if True:\n",
    "    print('if 1: line 1') # 4\n",
    "          \n",
    "          \n",
    "          \n",
    "    print('if 1: line 2') # 4\n",
    "    \n",
    "    if True:  # 4\n",
    "        print('if 2: line 1') # 8\n",
    "        print('if 2: line 2') # 8\n",
    "        \n",
    "    print('if 1: line 3') # 4\n",
    "\n",
    "print('line 2') # 0\n",
    "        "
   ]
  },
  {
   "cell_type": "markdown",
   "metadata": {},
   "source": [
    "# 换行规则"
   ]
  },
  {
   "cell_type": "code",
   "execution_count": 29,
   "metadata": {
    "scrolled": true
   },
   "outputs": [
    {
     "name": "stdout",
     "output_type": "stream",
     "text": [
      "line 1\n",
      "line 2\n",
      "line 3\n"
     ]
    }
   ],
   "source": [
    "#  s1\n",
    "print('line 1');  print('line 2'); print('line 3');"
   ]
  },
  {
   "cell_type": "code",
   "execution_count": 9,
   "metadata": {},
   "outputs": [
    {
     "name": "stdout",
     "output_type": "stream",
     "text": [
      "go 2 lines\n"
     ]
    }
   ],
   "source": [
    "# s2\n",
    "if True or \\\n",
    "False:\n",
    "    print('go 2 lines')"
   ]
  },
  {
   "cell_type": "code",
   "execution_count": 31,
   "metadata": {},
   "outputs": [
    {
     "name": "stdout",
     "output_type": "stream",
     "text": [
      "['Monday', 'Tuesday', 'Wednesday', 'Thursday', 'Friday']\n"
     ]
    }
   ],
   "source": [
    "# s3\n",
    "days = ['Monday', 'Tuesday', 'Wednesday',\n",
    "        'Thursday', 'Friday']\n",
    "print(days)"
   ]
  },
  {
   "cell_type": "markdown",
   "metadata": {},
   "source": [
    "# Python注释\n",
    "\n",
    "python 中多行注释使用三个单引号(''')或三个双引号(\"\"\")"
   ]
  },
  {
   "cell_type": "code",
   "execution_count": 33,
   "metadata": {},
   "outputs": [
    {
     "name": "stdout",
     "output_type": "stream",
     "text": [
      "Hello, Python!\n"
     ]
    },
    {
     "data": {
      "text/plain": [
       "'\\n这是多行注释，使用单引号。\\n这是多行注释，使用单引号。\\n这是多行注释，使用单引号。\\n'"
      ]
     },
     "execution_count": 33,
     "metadata": {},
     "output_type": "execute_result"
    }
   ],
   "source": [
    "# -*- coding: UTF-8 -*-\n",
    "# 文件名：test.py\n",
    "\n",
    "# 第一个注释\n",
    "print (\"Hello, Python!\")  # 第二个注释\n",
    "\n",
    "'''\n",
    "这是多行注释，使用单引号。\n",
    "这是多行注释，使用单引号。\n",
    "这是多行注释，使用单引号。\n",
    "'''"
   ]
  },
  {
   "cell_type": "markdown",
   "metadata": {},
   "source": [
    "# Python 引号\n",
    "Python 可以使用引号( ' )、双引号( \" )、三引号( ''' 或 \"\"\" ) 来表示字符串"
   ]
  },
  {
   "cell_type": "code",
   "execution_count": 12,
   "metadata": {},
   "outputs": [
    {
     "name": "stdout",
     "output_type": "stream",
     "text": [
      "word\n",
      "这是一个句子。\n",
      "这是一个段落。\n",
      "\n",
      "       包含了多个语句\n"
     ]
    }
   ],
   "source": [
    "word = 'word'\n",
    "sentence = \"这是一个句子。\"\n",
    "paragraph = \"\"\"这是一个段落。\n",
    "\n",
    "       包含了多个语句\"\"\"\n",
    "\n",
    "print(word)\n",
    "print(sentence)\n",
    "print(paragraph)"
   ]
  },
  {
   "cell_type": "markdown",
   "metadata": {},
   "source": [
    "# 标准数据类型\n",
    "### 基础型\n",
    "- Numbers（数字）\n",
    "- String（字符串）\n",
    "\n",
    "### 复杂型\n",
    "- List（列表）\n",
    "- Tuple（元组）\n",
    "- Set(集合)\n",
    "- Dictionary（字典）\n",
    "\n",
    "**注： 创建时无需指定变量类型**"
   ]
  },
  {
   "cell_type": "markdown",
   "metadata": {},
   "source": [
    "# 各类型举例\n",
    "比较C语言\n",
    "```C\n",
    "int counter = 100;\n",
    "float miles = 1000.0;\n",
    "```"
   ]
  },
  {
   "cell_type": "code",
   "execution_count": 13,
   "metadata": {},
   "outputs": [
    {
     "name": "stdout",
     "output_type": "stream",
     "text": [
      "100 <class 'int'>\n",
      "1000.0 <class 'float'>\n",
      "John <class 'str'>\n",
      "[1, '2', '234'] <class 'list'>\n",
      "(1, 2, 3) <class 'tuple'>\n",
      "{4, 5, 6} <class 'set'>\n",
      "{1: 'a', 2: 'b'} <class 'dict'>\n"
     ]
    }
   ],
   "source": [
    "# single \n",
    "counter = 100 # 赋值整型变量\n",
    "miles = 1000.0 # 浮点型\n",
    "name = \"John\" # 字符串\n",
    "\n",
    "# multi\n",
    "a, b, c = 1, 2, \"john\" # 变量赋值\n",
    "\n",
    "list1 = [1,'2','234']\n",
    "tuple1 = (1,2,3)\n",
    "set1 = {4,5,6}\n",
    "dict1 = {1:'a',2:'b'}\n",
    "\n",
    "print(counter, type(counter))\n",
    "print(miles, type(miles))\n",
    "print(name, type(name))\n",
    "print(list1, type(list1))\n",
    "print(tuple1, type(tuple1))\n",
    "print(set1, type(set1))\n",
    "print(dict1, type(dict1))"
   ]
  },
  {
   "cell_type": "markdown",
   "metadata": {},
   "source": [
    "# 序列产生器--便于后续举例使用\n",
    "## 语法 range(start, stop[, step])\n",
    "- start：计数从 start 开始，默认是从 0 开始\n",
    "- stop：计数到 stop 结束，但不包括 stop\n",
    "- step：步长，默认为1"
   ]
  },
  {
   "cell_type": "code",
   "execution_count": 14,
   "metadata": {},
   "outputs": [
    {
     "name": "stdout",
     "output_type": "stream",
     "text": [
      "1 0\n",
      "1 1\n",
      "\n"
     ]
    }
   ],
   "source": [
    "for i in range(2):\n",
    "    print(1,i)\n",
    "print()"
   ]
  },
  {
   "cell_type": "code",
   "execution_count": 28,
   "metadata": {},
   "outputs": [
    {
     "name": "stdout",
     "output_type": "stream",
     "text": [
      "range(0, 2)\n"
     ]
    }
   ],
   "source": [
    "print(range(2))"
   ]
  },
  {
   "cell_type": "code",
   "execution_count": 26,
   "metadata": {},
   "outputs": [
    {
     "name": "stdout",
     "output_type": "stream",
     "text": [
      "2 -1\n",
      "2 0\n",
      "2 1\n"
     ]
    }
   ],
   "source": [
    "for i in range(-1,2):\n",
    "    print(2,i)"
   ]
  },
  {
   "cell_type": "code",
   "execution_count": 15,
   "metadata": {},
   "outputs": [
    {
     "name": "stdout",
     "output_type": "stream",
     "text": [
      "3 -6\n",
      "3 -2\n",
      "3 2\n"
     ]
    }
   ],
   "source": [
    "for i in range(-6,6,4):\n",
    "# for i in range(-6,6,0.4):\n",
    "    print(3,i)"
   ]
  },
  {
   "cell_type": "markdown",
   "metadata": {},
   "source": [
    "# Python字符串"
   ]
  },
  {
   "cell_type": "code",
   "execution_count": 17,
   "metadata": {},
   "outputs": [
    {
     "name": "stdout",
     "output_type": "stream",
     "text": [
      "this is good\n",
      "this is good\n"
     ]
    }
   ],
   "source": [
    "s1 = 'this is good'\n",
    "s2 = 'this ' + 'is ' + 'good'\n",
    "print(s1)\n",
    "print(s2)"
   ]
  },
  {
   "cell_type": "markdown",
   "metadata": {},
   "source": [
    "## 转义符"
   ]
  },
  {
   "cell_type": "code",
   "execution_count": 35,
   "metadata": {},
   "outputs": [
    {
     "name": "stdout",
     "output_type": "stream",
     "text": [
      "there a 'key'\n"
     ]
    }
   ],
   "source": [
    "s3 = 'there a \\'key\\''\n",
    "print(s3)"
   ]
  },
  {
   "cell_type": "markdown",
   "metadata": {},
   "source": [
    "## 索引\n",
    "- 从0开始\n",
    "- 正负两种索引"
   ]
  },
  {
   "cell_type": "code",
   "execution_count": 18,
   "metadata": {},
   "outputs": [
    {
     "name": "stdout",
     "output_type": "stream",
     "text": [
      "s1[0]:t s1[-12]:t\n",
      "s1[1]:h s1[-11]:h\n",
      "s1[2]:i s1[-10]:i\n",
      "s1[3]:s s1[-9]:s\n",
      "s1[4]:  s1[-8]: \n",
      "s1[5]:i s1[-7]:i\n",
      "s1[6]:s s1[-6]:s\n",
      "s1[7]:  s1[-5]: \n",
      "s1[8]:g s1[-4]:g\n",
      "s1[9]:o s1[-3]:o\n",
      "s1[10]:o s1[-2]:o\n",
      "s1[11]:d s1[-1]:d\n"
     ]
    }
   ],
   "source": [
    "# 正负index用法\n",
    "for i in range(len(s1)):\n",
    "    j = i - len(s1)\n",
    "    print('s1[{}]:{} s1[{}]:{}'.format(i,s1[i],j,s1[j]))"
   ]
  },
  {
   "cell_type": "code",
   "execution_count": 20,
   "metadata": {},
   "outputs": [
    {
     "ename": "IndexError",
     "evalue": "string index out of range",
     "output_type": "error",
     "traceback": [
      "\u001b[1;31m---------------------------------------------------------------------------\u001b[0m",
      "\u001b[1;31mIndexError\u001b[0m                                Traceback (most recent call last)",
      "\u001b[1;32m<ipython-input-20-a5527cc249b7>\u001b[0m in \u001b[0;36m<module>\u001b[1;34m\u001b[0m\n\u001b[1;32m----> 1\u001b[1;33m \u001b[0ms1\u001b[0m\u001b[1;33m[\u001b[0m\u001b[1;33m-\u001b[0m\u001b[1;36m30\u001b[0m\u001b[1;33m]\u001b[0m\u001b[1;33m\u001b[0m\u001b[1;33m\u001b[0m\u001b[0m\n\u001b[0m",
      "\u001b[1;31mIndexError\u001b[0m: string index out of range"
     ]
    }
   ],
   "source": [
    "s1[-30]"
   ]
  },
  {
   "cell_type": "markdown",
   "metadata": {},
   "source": [
    "## 切片——用于获取部分字符串"
   ]
  },
  {
   "cell_type": "code",
   "execution_count": 21,
   "metadata": {},
   "outputs": [
    {
     "data": {
      "text/plain": [
       "'is'"
      ]
     },
     "execution_count": 21,
     "metadata": {},
     "output_type": "execute_result"
    }
   ],
   "source": [
    "s1[2:4]"
   ]
  },
  {
   "cell_type": "code",
   "execution_count": 24,
   "metadata": {},
   "outputs": [
    {
     "data": {
      "text/plain": [
       "'s is good'"
      ]
     },
     "execution_count": 24,
     "metadata": {},
     "output_type": "execute_result"
    }
   ],
   "source": [
    "s1[3:40]"
   ]
  },
  {
   "cell_type": "code",
   "execution_count": 23,
   "metadata": {},
   "outputs": [
    {
     "data": {
      "text/plain": [
       "''"
      ]
     },
     "execution_count": 23,
     "metadata": {},
     "output_type": "execute_result"
    }
   ],
   "source": [
    "s1[-2:-4]"
   ]
  },
  {
   "cell_type": "code",
   "execution_count": 46,
   "metadata": {},
   "outputs": [
    {
     "data": {
      "text/plain": [
       "'this is '"
      ]
     },
     "execution_count": 46,
     "metadata": {},
     "output_type": "execute_result"
    }
   ],
   "source": [
    "s1[-30:-4]"
   ]
  },
  {
   "cell_type": "markdown",
   "metadata": {},
   "source": [
    "## 字符串常用操作"
   ]
  },
  {
   "cell_type": "code",
   "execution_count": 25,
   "metadata": {},
   "outputs": [
    {
     "name": "stdout",
     "output_type": "stream",
     "text": [
      "s:   what a good day\n",
      "\n",
      "s.strip: what a good day\n"
     ]
    }
   ],
   "source": [
    "# 常用操作\n",
    "s = '  what a good day\\n'\n",
    "print('s:', s)\n",
    "print('s.strip:',s.strip())"
   ]
  },
  {
   "cell_type": "code",
   "execution_count": 50,
   "metadata": {},
   "outputs": [
    {
     "name": "stdout",
     "output_type": "stream",
     "text": [
      "s.split: ['', '', 'what', 'a', 'good', 'day\\n']\n",
      "s.strip.split: ['what', 'a', 'good', 'day']\n"
     ]
    }
   ],
   "source": [
    "print('s.split:', s.split(' '))\n",
    "print('s.strip.split:',s.strip().split(' '))"
   ]
  },
  {
   "cell_type": "code",
   "execution_count": 26,
   "metadata": {},
   "outputs": [
    {
     "name": "stdout",
     "output_type": "stream",
     "text": [
      "find good: 9\n",
      "find goodx: -1\n"
     ]
    }
   ],
   "source": [
    "print('find good:',s.find('good'))\n",
    "print('find goodx:',s.find('goodx')) #注意不是返回0"
   ]
  },
  {
   "cell_type": "code",
   "execution_count": 27,
   "metadata": {},
   "outputs": [
    {
     "name": "stdout",
     "output_type": "stream",
     "text": [
      "  what a good day\n",
      "\n",
      "  what a great day\n",
      "\n"
     ]
    }
   ],
   "source": [
    "s1 = s.replace('good','great')\n",
    "print(s)\n",
    "print(s1)"
   ]
  },
  {
   "cell_type": "code",
   "execution_count": 52,
   "metadata": {},
   "outputs": [
    {
     "name": "stdout",
     "output_type": "stream",
     "text": [
      "what a good day\n",
      "whatagoodday\n",
      "what_a_good_day\n"
     ]
    }
   ],
   "source": [
    "slist = ['what','a','good','day']\n",
    "print(' '.join(slist))\n",
    "print(''.join(slist))\n",
    "print('_'.join(slist))"
   ]
  },
  {
   "cell_type": "code",
   "execution_count": 28,
   "metadata": {},
   "outputs": [
    {
     "name": "stdout",
     "output_type": "stream",
     "text": [
      "True\n",
      "True\n"
     ]
    }
   ],
   "source": [
    "print('what' in s1)\n",
    "print('kit' not in s1)"
   ]
  },
  {
   "cell_type": "code",
   "execution_count": 58,
   "metadata": {},
   "outputs": [
    {
     "name": "stdout",
     "output_type": "stream",
     "text": [
      "  what a great day\n",
      "  what a great day\n",
      "  what a great day\n",
      " new new new\n"
     ]
    }
   ],
   "source": [
    "print(s1*3+' new'*3)"
   ]
  },
  {
   "cell_type": "markdown",
   "metadata": {},
   "source": [
    "## Python字符串格式化\n",
    "在 Python 中，字符串格式化使用与 C 中 sprintf 函数类似的语法\n",
    "> 方便把不同数据类型变成字符串输出"
   ]
  },
  {
   "cell_type": "code",
   "execution_count": 29,
   "metadata": {},
   "outputs": [
    {
     "name": "stdout",
     "output_type": "stream",
     "text": [
      "My name is Zara and weight is 21 kg!\n"
     ]
    }
   ],
   "source": [
    "print( \"My name is %s and weight is %d kg!\" % ('Zara', 21) )"
   ]
  },
  {
   "cell_type": "code",
   "execution_count": 60,
   "metadata": {},
   "outputs": [
    {
     "name": "stdout",
     "output_type": "stream",
     "text": [
      "My name is Zara and weight is 21.123 kg!\n"
     ]
    }
   ],
   "source": [
    "print( \"My name is %s and weight is %.3f kg!\" % ('Zara', 21.1234567) )"
   ]
  },
  {
   "cell_type": "markdown",
   "metadata": {},
   "source": [
    "0000056.jpg"
   ]
  }
 ],
 "metadata": {
  "kernelspec": {
   "display_name": "Python 3",
   "language": "python",
   "name": "python3"
  },
  "language_info": {
   "codemirror_mode": {
    "name": "ipython",
    "version": 3
   },
   "file_extension": ".py",
   "mimetype": "text/x-python",
   "name": "python",
   "nbconvert_exporter": "python",
   "pygments_lexer": "ipython3",
   "version": "3.7.4"
  }
 },
 "nbformat": 4,
 "nbformat_minor": 2
}
